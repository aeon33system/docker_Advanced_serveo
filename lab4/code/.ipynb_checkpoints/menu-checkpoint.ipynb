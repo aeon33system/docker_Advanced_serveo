{
 "cells": [
  {
   "cell_type": "code",
   "execution_count": 2,
   "metadata": {},
   "outputs": [
    {
     "ename": "SyntaxError",
     "evalue": "invalid syntax (<ipython-input-2-def71efb3f71>, line 18)",
     "output_type": "error",
     "traceback": [
      "\u001b[0;36m  File \u001b[0;32m\"<ipython-input-2-def71efb3f71>\"\u001b[0;36m, line \u001b[0;32m18\u001b[0m\n\u001b[0;31m    secretFile = json.load(open(\"secretFile.txt\",'r'))\u001b[0m\n\u001b[0m             ^\u001b[0m\n\u001b[0;31mSyntaxError\u001b[0m\u001b[0;31m:\u001b[0m invalid syntax\n"
     ]
    }
   ],
   "source": [
    "# 新增 Rich menus\n",
    "import requests\n",
    "import json\n",
    "\n",
    "from linebot import (\n",
    "    LineBotApi, WebhookHandler\n",
    ")\n",
    "from linebot.exceptions import (\n",
    "    InvalidSignatureError\n",
    ")\n",
    "from linebot.models import (\n",
    "    MessageEvent, FollowEvent, TextSendMessage, TextMessage, ImageSendMessage, StickerSendMessage,\n",
    "    StickerMessage,TemplateSendMessage, ButtonsTemplate,MessageAction,URIAction,ImagemapSendMessage,BaseSize,\n",
    "    URIImagemapAction,ImagemapArea,MessageImagemapAction\n",
    "\n",
    "\n",
    "\n",
    "secretFile = json.load(open(\"secretFile.txt\",'r'))\n",
    "channelAccessToken = secretFile['channelAccessToken']\n",
    "channelSecret = secretFile['channelSecret']\n",
    "\n",
    "headers = {\"Authorization\":\"Bearer %s\" % channelAccessToken,\"Content-Type\":\"application/json\"}\n",
    "\n",
    "body = {\n",
    "  \"size\": {\n",
    "    \"width\": 2500,\n",
    "    \"height\": 1686\n",
    "  },\n",
    "  \"selected\": \"true\",\n",
    "  \"name\": \"menu\",\n",
    "  \"chatBarText\": \"※請點擊這裡開啟選單※\",\n",
    "  \"areas\": [\n",
    "    {\n",
    "      \"bounds\": {\n",
    "        \"x\": 4,\n",
    "        \"y\": 3,\n",
    "        \"width\": 593,\n",
    "        \"height\": 755\n",
    "      },\n",
    "      \"action\": {\n",
    "        \"type\": \"message\",\n",
    "        \"text\": \"課表查詢\"\n",
    "      }\n",
    "    },\n",
    "    {\n",
    "      \"bounds\": {\n",
    "        \"x\": 626,\n",
    "        \"y\": 85,\n",
    "        \"width\": 604,\n",
    "        \"height\": 759\n",
    "      },\n",
    "      \"action\": {\n",
    "        \"type\": \"message\",\n",
    "        \"text\": \"缺勤查詢\"\n",
    "      }\n",
    "    },\n",
    "    {\n",
    "      \"bounds\": {\n",
    "        \"x\": 1258,\n",
    "        \"y\": 5,\n",
    "        \"width\": 604,\n",
    "        \"height\": 759\n",
    "      },\n",
    "      \"action\": {\n",
    "        \"type\": \"message\",\n",
    "        \"text\": \"機房申請\"\n",
    "      }\n",
    "    },\n",
    "    {\n",
    "      \"bounds\": {\n",
    "        \"x\": 1881,\n",
    "        \"y\": 87,\n",
    "        \"width\": 606,\n",
    "        \"height\": 759\n",
    "      },\n",
    "      \"action\": {\n",
    "        \"type\": \"message\",\n",
    "        \"text\": \"維修申請\"\n",
    "      }\n",
    "    },\n",
    "    {\n",
    "      \"bounds\": {\n",
    "        \"x\": 0,\n",
    "        \"y\": 842,\n",
    "        \"width\": 606,\n",
    "        \"height\": 759\n",
    "      },\n",
    "      \"action\": {\n",
    "        \"type\": \"message\",\n",
    "        \"text\": \"意見回饋\"\n",
    "      }\n",
    "    },\n",
    "    {\n",
    "      \"bounds\": {\n",
    "        \"x\": 627,\n",
    "        \"y\": 927,\n",
    "        \"width\": 606,\n",
    "        \"height\": 759\n",
    "      },\n",
    "      \"action\": {\n",
    "        \"type\": \"uri\",\n",
    "        \"uri\": \"https://dc10101.serveo.net/info\"\n",
    "      }\n",
    "    },\n",
    "    {\n",
    "      \"bounds\": {\n",
    "        \"x\": 1246,\n",
    "        \"y\": 833,\n",
    "        \"width\": 606,\n",
    "        \"height\": 759\n",
    "      },\n",
    "      \"action\": {\n",
    "        \"type\": \"uri\",\n",
    "        \"uri\": \"line://nv/recommendOA/@586lhsap\"\n",
    "      }\n",
    "    },\n",
    "    {\n",
    "      \"bounds\": {\n",
    "        \"x\": 1879,\n",
    "        \"y\": 927,\n",
    "        \"width\": 591,\n",
    "        \"height\": 759\n",
    "      },\n",
    "      \"action\": {\n",
    "        \"type\": \"uri\",\n",
    "        \"uri\": \"line://S/sticker/7417147\"\n",
    "      }\n",
    "    }\n",
    "  ]\n",
    "}\n",
    "\n",
    "req = requests.request('POST', 'https://api.line.me/v2/bot/richmenu', \n",
    "                       headers=headers,data=json.dumps(body).encode('utf-8'))\n",
    "\n",
    "# print(req.text)\n",
    "menuid = json.loads(req.text)[\"richMenuId\"]\n",
    "print(menuid)"
   ]
  },
  {
   "cell_type": "code",
   "execution_count": 3,
   "metadata": {},
   "outputs": [
    {
     "ename": "ModuleNotFoundError",
     "evalue": "No module named 'linebot'",
     "output_type": "error",
     "traceback": [
      "\u001b[0;31m---------------------------------------------------------------------------\u001b[0m",
      "\u001b[0;31mModuleNotFoundError\u001b[0m                       Traceback (most recent call last)",
      "\u001b[0;32m<ipython-input-3-1fd93216915e>\u001b[0m in \u001b[0;36m<module>\u001b[0;34m\u001b[0m\n\u001b[1;32m      1\u001b[0m \u001b[0;31m# 設定 Rich menus 的圖片\u001b[0m\u001b[0;34m\u001b[0m\u001b[0;34m\u001b[0m\u001b[0;34m\u001b[0m\u001b[0m\n\u001b[0;32m----> 2\u001b[0;31m from linebot import (\n\u001b[0m\u001b[1;32m      3\u001b[0m     \u001b[0mLineBotApi\u001b[0m\u001b[0;34m,\u001b[0m \u001b[0mWebhookHandler\u001b[0m\u001b[0;34m\u001b[0m\u001b[0;34m\u001b[0m\u001b[0m\n\u001b[1;32m      4\u001b[0m )\n\u001b[1;32m      5\u001b[0m \u001b[0;34m\u001b[0m\u001b[0m\n",
      "\u001b[0;31mModuleNotFoundError\u001b[0m: No module named 'linebot'"
     ]
    }
   ],
   "source": [
    "# 設定 Rich menus 的圖片\n",
    "from linebot import (\n",
    "    LineBotApi, WebhookHandler\n",
    ")\n",
    "\n",
    "line_bot_api = LineBotApi(channelAccessToken)\n",
    "\n",
    "with open(\"menu.jpg\", 'rb') as f:\n",
    "    line_bot_api.set_rich_menu_image(menuid, \"image/jpg\", f)"
   ]
  },
  {
   "cell_type": "code",
   "execution_count": 4,
   "metadata": {},
   "outputs": [
    {
     "name": "stdout",
     "output_type": "stream",
     "text": [
      "Success\n"
     ]
    }
   ],
   "source": [
    "# 啟用 Rich menus\n",
    "req = requests.request('POST', 'https://api.line.me/v2/bot/user/all/richmenu/'+menuid, \n",
    "                       headers=headers)\n",
    "\n",
    "if req.text == \"{}\" :\n",
    "    print(\"Success\")\n",
    "else:\n",
    "    print(\"Fail\")\n",
    "    print(req.text)"
   ]
  },
  {
   "cell_type": "code",
   "execution_count": 64,
   "metadata": {},
   "outputs": [],
   "source": [
    "# # 查看所有 Rich menus\n",
    "# rich_menu_list = line_bot_api.get_rich_menu_list()\n",
    "# for rich_menu in rich_menu_list:\n",
    "#     print(rich_menu.rich_menu_id)"
   ]
  },
  {
   "cell_type": "code",
   "execution_count": 63,
   "metadata": {},
   "outputs": [],
   "source": [
    "# # 刪除 Rich menus\n",
    "# for rich_menu in rich_menu_list:\n",
    "#     line_bot_api.delete_rich_menu(rich_menu.rich_menu_id)"
   ]
  }
 ],
 "metadata": {
  "kernelspec": {
   "display_name": "Python 3",
   "language": "python",
   "name": "python3"
  },
  "language_info": {
   "codemirror_mode": {
    "name": "ipython",
    "version": 3
   },
   "file_extension": ".py",
   "mimetype": "text/x-python",
   "name": "python",
   "nbconvert_exporter": "python",
   "pygments_lexer": "ipython3",
   "version": "3.7.3"
  }
 },
 "nbformat": 4,
 "nbformat_minor": 2
}
